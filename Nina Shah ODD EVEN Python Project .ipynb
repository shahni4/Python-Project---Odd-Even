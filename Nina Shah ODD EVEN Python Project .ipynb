{
 "cells": [
  {
   "cell_type": "code",
   "execution_count": 1,
   "metadata": {},
   "outputs": [
    {
     "name": "stdout",
     "output_type": "stream",
     "text": [
      "Enter a number or 0 to quit:2\n",
      "2 is an even number.\n",
      "Enter a number or 0 to quit:3\n",
      "3 is an odd number.\n",
      "Enter a number or 0 to quit:17\n",
      "17 is an odd number.\n",
      "Enter a number or 0 to quit:25\n",
      "25 is an odd number.\n",
      "Enter a number or 0 to quit:22\n",
      "22 is an even number.\n",
      "Enter a number or 0 to quit:88\n",
      "88 is an even number.\n",
      "Enter a number or 0 to quit:99\n",
      "99 is an odd number.\n",
      "Enter a number or 0 to quit:0\n",
      "All done!\n"
     ]
    }
   ],
   "source": [
    " while True:\n",
    "        num = int(input('Enter a number or 0 to quit:'))\n",
    "        if num == 0:\n",
    "            print ('All done!')\n",
    "            break\n",
    "        elif num % 2 == 0:\n",
    "            print (format (num), 'is an even number.')\n",
    "        else:\n",
    "            print (format (num),'is an odd number.')"
   ]
  },
  {
   "cell_type": "code",
   "execution_count": null,
   "metadata": {},
   "outputs": [
    {
     "name": "stdout",
     "output_type": "stream",
     "text": [
      "Enter a number: 2\n",
      "The number you input is an even\n",
      "Enter a number: 4\n",
      "The number you input is a multiple of 4\n",
      "Enter a number: 8\n",
      "The number you input is a multiple of 4\n",
      "Enter a number: 16\n",
      "The number you input is a multiple of 4\n",
      "Enter a number: 18\n",
      "The number you input is an even\n",
      "Enter a number: 21\n",
      "The number you input is an odd\n",
      "Enter a number: 24\n",
      "The number you input is a multiple of 4\n"
     ]
    }
   ],
   "source": [
    "while True:\n",
    "    num = int(input('Enter a number: ')) \n",
    "    if num % 4 == 0: \n",
    "        print('The number you input is a multiple of 4') \n",
    "\n",
    "    elif num % 2 == 0: \n",
    "        print('The number you input is an even')\n",
    "    else: \n",
    "        print('The number you input is an odd')"
   ]
  },
  {
   "cell_type": "code",
   "execution_count": null,
   "metadata": {},
   "outputs": [
    {
     "name": "stdout",
     "output_type": "stream",
     "text": [
      "Enter the first number: 2\n",
      "Enter the second number: 4\n",
      "The first number couldn't be divided evenly by the second number\n",
      "Enter the first number: 18\n",
      "Enter the second number: 2\n",
      "The first number could be divided evenly by the second number\n",
      "Enter the first number: 255\n",
      "Enter the second number: 5\n",
      "The first number could be divided evenly by the second number\n",
      "Enter the first number: 256\n",
      "Enter the second number: 5\n",
      "The first number couldn't be divided evenly by the second number\n"
     ]
    }
   ],
   "source": [
    "while True:\n",
    "    num = int(input('Enter the first number: '))\n",
    "    check = int(input('Enter the second number: ')) \n",
    "\n",
    "    if num % check == 0: \n",
    "        print('The first number could be divided evenly by the second number')\n",
    "    else: \n",
    "        print('The first number couldn\\'t be divided evenly by the second number')"
   ]
  },
  {
   "cell_type": "code",
   "execution_count": null,
   "metadata": {},
   "outputs": [],
   "source": []
  }
 ],
 "metadata": {
  "kernelspec": {
   "display_name": "Python 3",
   "language": "python",
   "name": "python3"
  },
  "language_info": {
   "codemirror_mode": {
    "name": "ipython",
    "version": 3
   },
   "file_extension": ".py",
   "mimetype": "text/x-python",
   "name": "python",
   "nbconvert_exporter": "python",
   "pygments_lexer": "ipython3",
   "version": "3.8.5"
  }
 },
 "nbformat": 4,
 "nbformat_minor": 4
}
